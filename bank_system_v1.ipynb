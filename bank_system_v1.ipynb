{
  "nbformat": 4,
  "nbformat_minor": 0,
  "metadata": {
    "colab": {
      "provenance": [],
      "authorship_tag": "ABX9TyPONfZn4u+moKv87uukCAbA",
      "include_colab_link": true
    },
    "kernelspec": {
      "name": "python3",
      "display_name": "Python 3"
    },
    "language_info": {
      "name": "python"
    }
  },
  "cells": [
    {
      "cell_type": "markdown",
      "metadata": {
        "id": "view-in-github",
        "colab_type": "text"
      },
      "source": [
        "<a href=\"https://colab.research.google.com/github/AllanPin/bootcamp_DIO_NTT/blob/main/bank_system_v1.ipynb\" target=\"_parent\"><img src=\"https://colab.research.google.com/assets/colab-badge.svg\" alt=\"Open In Colab\"/></a>"
      ]
    },
    {
      "cell_type": "markdown",
      "source": [
        "Menu with 3 possible options:\n",
        "\n",
        "> Deposit (D): to deposit a financial amount in the bank account\n",
        "\n",
        "> Withdraw (S)¹: to withdraw a financial amount not greater than R$ 500,00 and this operation cannot be done more than 3 times a day\n",
        "\n",
        "> Statement (E)²: generates a bank statement informing all the operations done and displaying the closing balance\n",
        "\n",
        "¹: S comes from the brazilian word *Sacar*, which means to withdraw\n",
        "²: E comes from the brazilian word *Extrato Bancário*, which means Bank Statement"
      ],
      "metadata": {
        "id": "JziTP5BWGLUa"
      }
    },
    {
      "cell_type": "code",
      "source": [
        "# the system will be in portugues, according to the explained above. Obs.: q for quit system\n",
        "\n",
        "menu = \"\"\"\n",
        "\n",
        "[d] Depósito\n",
        "[s] Saque\n",
        "[e] Extrato\n",
        "[q] Sair\n",
        "\n",
        "=> \"\"\""
      ],
      "metadata": {
        "id": "KDX1JXPNGKSc"
      },
      "execution_count": 1,
      "outputs": []
    },
    {
      "cell_type": "code",
      "source": [
        "# main variables\n",
        "\n",
        "balance = 0\n",
        "\n",
        "\n",
        "\n",
        "statement = \"\"\n",
        "\n",
        "# control variables\n",
        "\n",
        "i = 0  # variável que servirá como registro de ordem cronológica das operações (na vida real seria a data do dia da operação)\n",
        "log = {}  # log que registra todas as operações. Base para gerar o extrato\n",
        "\n",
        "withdrawals_count = 0\n",
        "\n",
        "LIMIT_OF_WITHDRAWALS = 3\n",
        "LIMIT = 500"
      ],
      "metadata": {
        "id": "jyEAuV8vHmi1"
      },
      "execution_count": 2,
      "outputs": []
    },
    {
      "cell_type": "code",
      "source": [
        "while True:\n",
        "\n",
        "  option = input(menu)\n",
        "\n",
        "  if option == \"d\":\n",
        "    x = 0  # o escopo da variável é apenas dessa parte do laço\n",
        "\n",
        "    print(\" Operação Selecionada: Depósito \".center(40, \"#\"))\n",
        "\n",
        "    x = float(input(\"\\nDigite o valor a ser depositado: \"))  # x é uma variável auxiliar para verificar a viabilidade da operação\n",
        "\n",
        "    if (x > 0) and (x <= 500):\n",
        "      balance += x\n",
        "      print(\"\\nOperação concluída com sucesso!\\n\")\n",
        "      print(f\"Seu saldo atual é: R$ {balance: .2f}\")\n",
        "\n",
        "      log[i] = (\"Depósito\", x)  # registrando a operação de número i com o par (tipo de operação, valor da operação)\n",
        "      i += 1  # uma vez concluída a operação, sinalize para o log para ir para a próxima operação\n",
        "\n",
        "    elif x <= 0:\n",
        "      print(\"\\nOperação inválida: valor informado não pode ser negativo ou nulo\")\n",
        "\n",
        "    elif x > LIMIT:\n",
        "      print(\"\\nOperação inválida: valor informado acima do limite para movimentação\")\n",
        "      print(\"\\nExperimente fracionar o valor desejado em mais de uma operação\\n\")\n",
        "\n",
        "    else:\n",
        "      print(\"\\nErro desconhecido, reinicie a operação\\n\")\n",
        "      break\n",
        "\n",
        "  if option == \"s\":\n",
        "    x = 0  # o escopo da variável é apenas dessa parte do laço\n",
        "\n",
        "    print(\" Operação Selecionada: Saque \".center(40, \"#\"))\n",
        "\n",
        "    print(f\"\\nSaldo disponível para saque: R$ {balance: .2f}\")\n",
        "\n",
        "    x = float(input(\"\\nDigite o valor a ser sacado: \"))\n",
        "\n",
        "    if (x <= balance) and (x <= LIMIT) and (withdrawals_count < LIMIT_OF_WITHDRAWALS):\n",
        "      balance -= x\n",
        "      print(\"\\nOperação concluída com sucesso!\\n\")\n",
        "      print(f\"Seu saldo atual é: R$ {balance: .2f}\")\n",
        "      withdrawals_count += 1\n",
        "\n",
        "      log[i] = (\"Saque\", x)  # registrando a operação de número i com o par (tipo de operação, valor da operação)\n",
        "      i += 1  # uma vez concluída a operação, sinalize para o log para ir para a próxima operação\n",
        "\n",
        "    elif x <= 0:\n",
        "      print(\"\\nOperação inválida: valor informado não pode ser negativo ou nulo\")\n",
        "\n",
        "    elif x > LIMIT:\n",
        "      print(\"\\nOperação inválida: valor informado acima do limite para movimentação\")\n",
        "      print(\"\\nExperimente fracionar o valor desejado em mais de uma operação, limitando-se a 3 operações por dia\\n\")\n",
        "\n",
        "    elif withdrawals_count == LIMIT_OF_WITHDRAWALS:\n",
        "      print(\"\\nOperação negada: limite de operações de saque em um dia atingido. Entre em contato com seu gerente bancário\")\n",
        "      break\n",
        "\n",
        "    else:\n",
        "      print(\"\\nErro desconhecido, reinicie a operação\\n\")\n",
        "      break\n",
        "\n",
        "  if option == \"e\":  # a ideia é finalmente usar o dicionário log criado anteriormente para gerar o extrato para o cliente\n",
        "    print(\" Operação Selecionada: Extrato \".center(40, \"#\"))\n",
        "    if log:\n",
        "      print(f\"\\nExtrato das Operações de Número\\n {min(log.keys()) + 1} a {max(log.keys()) + 1}:\\n\".center(80, \"#\"))\n",
        "      for order, (kind, amount) in log.items():  # estrutura de repetição que monta o corpo do extrato bancário\n",
        "        print(f\"Operação de número {order + 1}: {kind} no valor de R$ {amount: .2f}\")\n",
        "\n",
        "    else:\n",
        "      print(\"\\nNenhuma operação registrada. Em caso de dúvida, entre em contato com seu gerente bancário\\n\")\n",
        "\n",
        "  if option == \"q\":\n",
        "    break"
      ],
      "metadata": {
        "colab": {
          "base_uri": "https://localhost:8080/"
        },
        "id": "O8q672TMIwUN",
        "outputId": "a12c20e7-be78-4aaf-cc2f-003c891bc816"
      },
      "execution_count": 3,
      "outputs": [
        {
          "name": "stdout",
          "output_type": "stream",
          "text": [
            "\n",
            "\n",
            "[d] Depósito\n",
            "[s] Saque\n",
            "[e] Extrato\n",
            "[q] Sair\n",
            "\n",
            "=> e\n",
            "#### Operação Selecionada: Extrato #####\n",
            "\n",
            "Nenhuma operação registrada. Em caso de dúvida, entre em contato com seu gerente bancário\n",
            "\n",
            "\n",
            "\n",
            "[d] Depósito\n",
            "[s] Saque\n",
            "[e] Extrato\n",
            "[q] Sair\n",
            "\n",
            "=> q\n"
          ]
        }
      ]
    }
  ]
}